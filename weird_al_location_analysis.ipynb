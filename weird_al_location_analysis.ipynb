{
 "cells": [
  {
   "cell_type": "markdown",
   "id": "ab6bb4f1-fb59-4e3b-8a67-3f80b8e84a2f",
   "metadata": {},
   "source": [
    "# Weird Al Concert Location Analysis\n",
    "\n",
    "People live all over the place so choosing where to meet up is always difficult. This hopefully alleviates any hesitation associated with choosing the \"wrong\" Weird Al venue."
   ]
  },
  {
   "cell_type": "code",
   "execution_count": 1,
   "id": "d3a126c8-5f46-402b-850f-b626153534a3",
   "metadata": {},
   "outputs": [],
   "source": [
    "import pandas as pd\n",
    "from geopy.distance import distance\n",
    "from geopy.geocoders import Nominatim\n",
    "from geopy.extra.rate_limiter import RateLimiter\n",
    "from shapely.geometry import shape"
   ]
  },
  {
   "cell_type": "markdown",
   "id": "b2c56c3d-7ddb-44e5-8104-d909a970785c",
   "metadata": {},
   "source": [
    "## Load and prepare the datasets\n",
    "\n",
    "`people.csv` contains the approximate closest large city for each person. `weirdal.csv` contains the location and date of each Weird Al concert this year."
   ]
  },
  {
   "cell_type": "code",
   "execution_count": 2,
   "id": "6c37990f-9067-4265-a977-42f9c74f61a5",
   "metadata": {},
   "outputs": [],
   "source": [
    "people_df = pd.read_csv(\"people.csv\")\n",
    "people_df[\"city_state\"] = people_df[[\"City\", \"State\"]].agg(', '.join, axis=1)\n",
    "weirdal_df = pd.read_csv(\"weirdal.csv\")\n",
    "weirdal_df[\"city_state\"] = weirdal_df[[\"City\", \"State\"]].agg(', '.join, axis=1)"
   ]
  },
  {
   "cell_type": "markdown",
   "id": "670f5433-a5a1-49f3-aee4-996a1e5b5062",
   "metadata": {},
   "source": [
    "[geopy](https://geopy.readthedocs.io/en/latest) makes API calls to geolocate. To perform bulk operations while gracefully handling error responses and adding delays when needed, we need to add a rate-limiter.\n",
    "More information [here](https://geopy.readthedocs.io/en/latest/#module-geopy.extra.rate_limiter)."
   ]
  },
  {
   "cell_type": "code",
   "execution_count": 3,
   "id": "f231cfd3-6e9d-40fe-9ef2-9a8df4e7dbc5",
   "metadata": {},
   "outputs": [],
   "source": [
    "geolocator = Nominatim(user_agent=\"pc_tracker\")\n",
    "geocode = RateLimiter(geolocator.geocode, min_delay_seconds=1)"
   ]
  },
  {
   "cell_type": "markdown",
   "id": "8fe05dc4-72ca-4261-8b7d-8304a95dcfd1",
   "metadata": {},
   "source": [
    "Using the geolocator, figure out the latitude and longitude of each location so that we can use that information for our analysis."
   ]
  },
  {
   "cell_type": "code",
   "execution_count": 4,
   "id": "bebb56fc-181b-4abf-9ff4-3ac144c2ddc9",
   "metadata": {},
   "outputs": [],
   "source": [
    "people_df[\"location\"] = people_df[\"city_state\"].apply(geocode)\n",
    "people_df[[\"latitude\", \"longitude\", \"altitude\"]] = people_df[\"location\"].apply(lambda loc: tuple(loc.point) if loc else None).tolist()\n",
    "weirdal_df[\"location\"] = weirdal_df[\"city_state\"].apply(geocode)\n",
    "weirdal_df[[\"latitude\", \"longitude\", \"altitude\"]] = weirdal_df[\"location\"].apply(lambda loc: tuple(loc.point) if loc else None).tolist()"
   ]
  },
  {
   "cell_type": "markdown",
   "id": "99ff03e2-fae8-485d-962e-5bae7cd52f21",
   "metadata": {},
   "source": [
    "Figure out the mean location off all people. "
   ]
  },
  {
   "cell_type": "code",
   "execution_count": 5,
   "id": "ffc560d8-da86-40fa-8d59-157d0e7ed504",
   "metadata": {},
   "outputs": [
    {
     "name": "stdout",
     "output_type": "stream",
     "text": [
      "The mean location is: County Road V, Amos, Vernon County, Missouri, United States\n",
      "Coordinates: (38.04241013607125, -94.57380978106599)\n"
     ]
    }
   ],
   "source": [
    "mean_latitude = people_df.latitude.mean()\n",
    "mean_longitude = people_df.longitude.mean()\n",
    "mean_location = geolocator.reverse(f\"{mean_latitude}, {mean_longitude}\")\n",
    "print(f\"The mean location is: {mean_location.address}\")\n",
    "print(f\"Coordinates: ({mean_location.latitude}, {mean_location.longitude})\")"
   ]
  },
  {
   "cell_type": "markdown",
   "id": "eeb78377-7ed3-45c0-9cdc-420de565e92d",
   "metadata": {},
   "source": [
    "Now, for each concert location, figure out how far from the mean location we are."
   ]
  },
  {
   "cell_type": "code",
   "execution_count": 6,
   "id": "14eb2f34-26eb-4a80-9c22-870e5e5db722",
   "metadata": {},
   "outputs": [],
   "source": [
    "def calculate_distance_to_mean(x):\n",
    "    return distance((mean_location.latitude, mean_location.longitude),\n",
    "                    (x[0], x[1]))\n",
    "weirdal_df[\"distance_to_mean\"] = weirdal_df[[\"latitude\", \"longitude\"]].apply(calculate_distance_to_mean, axis=1)"
   ]
  },
  {
   "cell_type": "markdown",
   "id": "9acd09a7-35f8-4856-85f2-e0561d8f70c1",
   "metadata": {},
   "source": [
    "Let's get the top 20 closest concert locations to the mean."
   ]
  },
  {
   "cell_type": "code",
   "execution_count": 7,
   "id": "fb1a209b-e04d-4d95-a905-3b62b00c9c62",
   "metadata": {},
   "outputs": [
    {
     "data": {
      "text/html": [
       "<div>\n",
       "<style scoped>\n",
       "    .dataframe tbody tr th:only-of-type {\n",
       "        vertical-align: middle;\n",
       "    }\n",
       "\n",
       "    .dataframe tbody tr th {\n",
       "        vertical-align: top;\n",
       "    }\n",
       "\n",
       "    .dataframe thead th {\n",
       "        text-align: right;\n",
       "    }\n",
       "</style>\n",
       "<table border=\"1\" class=\"dataframe\">\n",
       "  <thead>\n",
       "    <tr style=\"text-align: right;\">\n",
       "      <th></th>\n",
       "      <th>City</th>\n",
       "      <th>State</th>\n",
       "      <th>Date</th>\n",
       "      <th>distance_to_mean</th>\n",
       "    </tr>\n",
       "  </thead>\n",
       "  <tbody>\n",
       "    <tr>\n",
       "      <th>84</th>\n",
       "      <td>Kansas City</td>\n",
       "      <td>MO</td>\n",
       "      <td>20220902</td>\n",
       "      <td>117.41248014649945 km</td>\n",
       "    </tr>\n",
       "    <tr>\n",
       "      <th>81</th>\n",
       "      <td>Springfield</td>\n",
       "      <td>MO</td>\n",
       "      <td>20220830</td>\n",
       "      <td>145.60323663893539 km</td>\n",
       "    </tr>\n",
       "    <tr>\n",
       "      <th>82</th>\n",
       "      <td>Topeka</td>\n",
       "      <td>KS</td>\n",
       "      <td>20220831</td>\n",
       "      <td>147.45709111821236 km</td>\n",
       "    </tr>\n",
       "    <tr>\n",
       "      <th>56</th>\n",
       "      <td>Columbia</td>\n",
       "      <td>MO</td>\n",
       "      <td>20220720</td>\n",
       "      <td>218.52997863299154 km</td>\n",
       "    </tr>\n",
       "    <tr>\n",
       "      <th>25</th>\n",
       "      <td>Tulsa</td>\n",
       "      <td>OK</td>\n",
       "      <td>20220601</td>\n",
       "      <td>244.44580424688246 km</td>\n",
       "    </tr>\n",
       "    <tr>\n",
       "      <th>83</th>\n",
       "      <td>Wichita</td>\n",
       "      <td>KS</td>\n",
       "      <td>20220901</td>\n",
       "      <td>246.25894625141873 km</td>\n",
       "    </tr>\n",
       "    <tr>\n",
       "      <th>80</th>\n",
       "      <td>Chesterfield</td>\n",
       "      <td>MO</td>\n",
       "      <td>20220828</td>\n",
       "      <td>357.12373673581175 km</td>\n",
       "    </tr>\n",
       "    <tr>\n",
       "      <th>57</th>\n",
       "      <td>Lincoln</td>\n",
       "      <td>NE</td>\n",
       "      <td>20220722</td>\n",
       "      <td>357.88042187739086 km</td>\n",
       "    </tr>\n",
       "    <tr>\n",
       "      <th>85</th>\n",
       "      <td>Midwest City</td>\n",
       "      <td>OK</td>\n",
       "      <td>20220904</td>\n",
       "      <td>382.51544963523804 km</td>\n",
       "    </tr>\n",
       "    <tr>\n",
       "      <th>24</th>\n",
       "      <td>Little Rock</td>\n",
       "      <td>AR</td>\n",
       "      <td>20220531</td>\n",
       "      <td>419.1914515574612 km</td>\n",
       "    </tr>\n",
       "    <tr>\n",
       "      <th>18</th>\n",
       "      <td>Springfield</td>\n",
       "      <td>IL</td>\n",
       "      <td>20220522</td>\n",
       "      <td>469.81321598104165 km</td>\n",
       "    </tr>\n",
       "    <tr>\n",
       "      <th>55</th>\n",
       "      <td>Cedar Rapids</td>\n",
       "      <td>IA</td>\n",
       "      <td>20220719</td>\n",
       "      <td>502.12244323717385 km</td>\n",
       "    </tr>\n",
       "    <tr>\n",
       "      <th>105</th>\n",
       "      <td>Memphis</td>\n",
       "      <td>TN</td>\n",
       "      <td>20221006</td>\n",
       "      <td>516.4392706106781 km</td>\n",
       "    </tr>\n",
       "    <tr>\n",
       "      <th>20</th>\n",
       "      <td>Evansville</td>\n",
       "      <td>IN</td>\n",
       "      <td>20220525</td>\n",
       "      <td>616.2323663673935 km</td>\n",
       "    </tr>\n",
       "    <tr>\n",
       "      <th>106</th>\n",
       "      <td>Shreveport</td>\n",
       "      <td>LA</td>\n",
       "      <td>20221007</td>\n",
       "      <td>616.840949090737 km</td>\n",
       "    </tr>\n",
       "    <tr>\n",
       "      <th>101</th>\n",
       "      <td>Dallas</td>\n",
       "      <td>TX</td>\n",
       "      <td>20220930</td>\n",
       "      <td>618.1174226819493 km</td>\n",
       "    </tr>\n",
       "    <tr>\n",
       "      <th>58</th>\n",
       "      <td>Mankato</td>\n",
       "      <td>MN</td>\n",
       "      <td>20220723</td>\n",
       "      <td>681.4856779224882 km</td>\n",
       "    </tr>\n",
       "    <tr>\n",
       "      <th>52</th>\n",
       "      <td>Madison</td>\n",
       "      <td>WI</td>\n",
       "      <td>20220714</td>\n",
       "      <td>710.664514744581 km</td>\n",
       "    </tr>\n",
       "    <tr>\n",
       "      <th>23</th>\n",
       "      <td>Nashville</td>\n",
       "      <td>TN</td>\n",
       "      <td>20220529</td>\n",
       "      <td>723.7657402305317 km</td>\n",
       "    </tr>\n",
       "    <tr>\n",
       "      <th>53</th>\n",
       "      <td>Chicago</td>\n",
       "      <td>IL</td>\n",
       "      <td>20220715</td>\n",
       "      <td>730.166215765036 km</td>\n",
       "    </tr>\n",
       "  </tbody>\n",
       "</table>\n",
       "</div>"
      ],
      "text/plain": [
       "             City State      Date       distance_to_mean\n",
       "84    Kansas City    MO  20220902  117.41248014649945 km\n",
       "81    Springfield    MO  20220830  145.60323663893539 km\n",
       "82         Topeka    KS  20220831  147.45709111821236 km\n",
       "56       Columbia    MO  20220720  218.52997863299154 km\n",
       "25          Tulsa    OK  20220601  244.44580424688246 km\n",
       "83        Wichita    KS  20220901  246.25894625141873 km\n",
       "80   Chesterfield    MO  20220828  357.12373673581175 km\n",
       "57        Lincoln    NE  20220722  357.88042187739086 km\n",
       "85   Midwest City    OK  20220904  382.51544963523804 km\n",
       "24    Little Rock    AR  20220531   419.1914515574612 km\n",
       "18    Springfield    IL  20220522  469.81321598104165 km\n",
       "55   Cedar Rapids    IA  20220719  502.12244323717385 km\n",
       "105       Memphis    TN  20221006   516.4392706106781 km\n",
       "20     Evansville    IN  20220525   616.2323663673935 km\n",
       "106    Shreveport    LA  20221007    616.840949090737 km\n",
       "101        Dallas    TX  20220930   618.1174226819493 km\n",
       "58        Mankato    MN  20220723   681.4856779224882 km\n",
       "52        Madison    WI  20220714    710.664514744581 km\n",
       "23      Nashville    TN  20220529   723.7657402305317 km\n",
       "53        Chicago    IL  20220715    730.166215765036 km"
      ]
     },
     "execution_count": 7,
     "metadata": {},
     "output_type": "execute_result"
    }
   ],
   "source": [
    "weirdal_df[[\"City\", \"State\", \"Date\", \"distance_to_mean\"]].sort_values(by=['distance_to_mean']).head(20)"
   ]
  },
  {
   "cell_type": "markdown",
   "id": "2d05c5e1-e6f0-49de-a021-91d2c42131a8",
   "metadata": {},
   "source": [
    "There you have it, Kansas City, MO better be ready."
   ]
  }
 ],
 "metadata": {
  "kernelspec": {
   "display_name": "Python 3 (ipykernel)",
   "language": "python",
   "name": "python3"
  },
  "language_info": {
   "codemirror_mode": {
    "name": "ipython",
    "version": 3
   },
   "file_extension": ".py",
   "mimetype": "text/x-python",
   "name": "python",
   "nbconvert_exporter": "python",
   "pygments_lexer": "ipython3",
   "version": "3.10.0"
  }
 },
 "nbformat": 4,
 "nbformat_minor": 5
}
